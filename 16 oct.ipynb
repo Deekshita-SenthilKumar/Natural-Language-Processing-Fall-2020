{
  "nbformat": 4,
  "nbformat_minor": 0,
  "metadata": {
    "colab": {
      "name": "16 oct.ipynb",
      "provenance": [],
      "authorship_tag": "ABX9TyPSgE0fGfTfPZiPtI7WyY6g",
      "include_colab_link": true
    },
    "kernelspec": {
      "name": "python3",
      "display_name": "Python 3"
    }
  },
  "cells": [
    {
      "cell_type": "markdown",
      "metadata": {
        "id": "view-in-github",
        "colab_type": "text"
      },
      "source": [
        "<a href=\"https://colab.research.google.com/github/naynikaw/Natural-Language-Processing-Fall-2020/blob/master/16%20oct.ipynb\" target=\"_parent\"><img src=\"https://colab.research.google.com/assets/colab-badge.svg\" alt=\"Open In Colab\"/></a>"
      ]
    },
    {
      "cell_type": "code",
      "metadata": {
        "id": "7Dhj8k_2qBO9",
        "outputId": "104d32d9-13e9-42fb-f648-c144b61720a1",
        "colab": {
          "base_uri": "https://localhost:8080/",
          "height": 70
        }
      },
      "source": [
        "!pip install nltk"
      ],
      "execution_count": null,
      "outputs": [
        {
          "output_type": "stream",
          "text": [
            "Requirement already satisfied: nltk in /usr/local/lib/python3.6/dist-packages (3.2.5)\n",
            "Requirement already satisfied: six in /usr/local/lib/python3.6/dist-packages (from nltk) (1.15.0)\n"
          ],
          "name": "stdout"
        }
      ]
    },
    {
      "cell_type": "code",
      "metadata": {
        "id": "RhygbGGLqDMr"
      },
      "source": [
        "import nltk\n",
        "import tkinter\n",
        "from nltk.chunk import *\n",
        "from nltk.chunk.util import *\n",
        "from nltk.chunk.regexp import *\n",
        "from nltk.tokenize import sent_tokenize, word_tokenize"
      ],
      "execution_count": 4,
      "outputs": []
    },
    {
      "cell_type": "code",
      "metadata": {
        "id": "wpBdV2IYqI6z",
        "outputId": "d14f0b14-355e-461b-f602-434ed71dda3c",
        "colab": {
          "base_uri": "https://localhost:8080/"
        }
      },
      "source": [
        "sentence = [(\"the\", \"DT\"), (\"little\", \"JJ\"), (\"yellow\", \"JJ\"),(\"dog\", \"NN\"), (\"barked\", \"VBD\"), (\"at\", \"IN\"),  (\"the\", \"DT\"), (\"cat\", \"NN\")]\n",
        "grammar = \"NP: {<DT>?<JJ>*<NN>}\"\n",
        "c = nltk.RegexpParser(grammar)\n",
        "result = c.parse(sentence)\n",
        "print(result)"
      ],
      "execution_count": 5,
      "outputs": [
        {
          "output_type": "stream",
          "text": [
            "(S\n",
            "  (NP the/DT little/JJ yellow/JJ dog/NN)\n",
            "  barked/VBD\n",
            "  at/IN\n",
            "  (NP the/DT cat/NN))\n"
          ],
          "name": "stdout"
        }
      ]
    },
    {
      "cell_type": "code",
      "metadata": {
        "id": "0pHLszfk5sQ5",
        "outputId": "36ff40fa-c4cf-4444-f32d-5cd6a222ab95",
        "colab": {
          "base_uri": "https://localhost:8080/"
        }
      },
      "source": [
        "nltk.download('punkt')\n",
        "nltk.download('averaged_perceptron_tagger')"
      ],
      "execution_count": 12,
      "outputs": [
        {
          "output_type": "stream",
          "text": [
            "[nltk_data] Downloading package punkt to /root/nltk_data...\n",
            "[nltk_data]   Package punkt is already up-to-date!\n",
            "[nltk_data] Downloading package averaged_perceptron_tagger to\n",
            "[nltk_data]     /root/nltk_data...\n",
            "[nltk_data]   Unzipping taggers/averaged_perceptron_tagger.zip.\n"
          ],
          "name": "stdout"
        },
        {
          "output_type": "execute_result",
          "data": {
            "text/plain": [
              "True"
            ]
          },
          "metadata": {
            "tags": []
          },
          "execution_count": 12
        }
      ]
    },
    {
      "cell_type": "code",
      "metadata": {
        "id": "9b1TXhWdso4J"
      },
      "source": [
        "gettysburg = \"Four score and seven years ago our fathers brought forth on this continent, a new nation, conceived in Liberty, and dedicated to the proposition that all men are created equal. Now we are engaged in a great civil war, testing whether that nation, or any nation so conceived and so dedicated, can long endure. We are met on a great battle-field of that war. We have come to dedicate a portion of that field, as a final resting place for those who here gave their lives that that nation might live. It is altogether fitting and proper that we should do this. But, in a larger sense, we can not dedicate—we can not consecrate—we can not hallow—this ground. The brave men, living and dead, who struggled here, have consecrated it, far above our poor power to add or detract. The world will little note, nor long remember what we say here, but it can never forget what they did here. It is for us the living, rather, to be dedicated here to the unfinished work which they who fought here have thus far so nobly advanced. It is rather for us to be here dedicated to the great task remaining before us—that from these honored dead we take increased devotion to that cause for which they gave the last full measure of devotion—that we here highly resolve that these dead shall not have died in vain—that this nation, under God, shall have a new birth of freedom—and that government of the people, by the people, for the people, shall not perish from the earth.\""
      ],
      "execution_count": 13,
      "outputs": []
    },
    {
      "cell_type": "code",
      "metadata": {
        "id": "UjEZF3364-Qk",
        "outputId": "24c4f509-4a2d-400e-9316-d96f4e29668f",
        "colab": {
          "base_uri": "https://localhost:8080/"
        }
      },
      "source": [
        "from nltk.tokenize import sent_tokenize, word_tokenize\n",
        "sentences = sent_tokenize(gettysburg)\n",
        "\n",
        "for sent in sentences[:2]:\n",
        "  words = word_tokenize(sent)\n",
        "  pos = nltk.pos_tag(words)\n",
        "  chunks = c.parse(pos)\n",
        "  print(chunks, end=\"\\n\")"
      ],
      "execution_count": 14,
      "outputs": [
        {
          "output_type": "stream",
          "text": [
            "(S\n",
            "  Four/CD\n",
            "  (NP score/NN)\n",
            "  and/CC\n",
            "  seven/CD\n",
            "  years/NNS\n",
            "  ago/RB\n",
            "  our/PRP$\n",
            "  fathers/NNS\n",
            "  brought/VBN\n",
            "  forth/RB\n",
            "  on/IN\n",
            "  (NP this/DT continent/NN)\n",
            "  ,/,\n",
            "  (NP a/DT new/JJ nation/NN)\n",
            "  ,/,\n",
            "  conceived/VBN\n",
            "  in/IN\n",
            "  Liberty/NNP\n",
            "  ,/,\n",
            "  and/CC\n",
            "  dedicated/VBD\n",
            "  to/TO\n",
            "  (NP the/DT proposition/NN)\n",
            "  that/IN\n",
            "  all/DT\n",
            "  men/NNS\n",
            "  are/VBP\n",
            "  created/VBN\n",
            "  equal/JJ\n",
            "  ./.)\n",
            "(S\n",
            "  Now/RB\n",
            "  we/PRP\n",
            "  are/VBP\n",
            "  engaged/VBN\n",
            "  in/IN\n",
            "  (NP a/DT great/JJ civil/JJ war/NN)\n",
            "  ,/,\n",
            "  testing/VBG\n",
            "  whether/IN\n",
            "  (NP that/DT nation/NN)\n",
            "  ,/,\n",
            "  or/CC\n",
            "  (NP any/DT nation/NN)\n",
            "  so/RB\n",
            "  conceived/JJ\n",
            "  and/CC\n",
            "  so/RB\n",
            "  dedicated/JJ\n",
            "  ,/,\n",
            "  can/MD\n",
            "  long/VB\n",
            "  (NP endure/NN)\n",
            "  ./.)\n"
          ],
          "name": "stdout"
        }
      ]
    },
    {
      "cell_type": "code",
      "metadata": {
        "id": "9NKqgfcqud1W"
      },
      "source": [
        ""
      ],
      "execution_count": null,
      "outputs": []
    }
  ]
}